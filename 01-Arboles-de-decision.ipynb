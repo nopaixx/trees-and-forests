{
 "cells": [
  {
   "cell_type": "markdown",
   "metadata": {},
   "source": [
    "# Árboles de decision\n",
    "\n",
    "## Ejemplo manual"
   ]
  },
  {
   "cell_type": "code",
   "execution_count": 1,
   "metadata": {},
   "outputs": [],
   "source": [
    "import warnings\n",
    "warnings.filterwarnings(\"ignore\")\n",
    "\n",
    "import matplotlib.pyplot as plt\n",
    "import matplotlib\n",
    "import numpy as np\n",
    "import pandas as pd\n",
    "from sklearn import datasets\n",
    "from sklearn.model_selection import train_test_split"
   ]
  },
  {
   "cell_type": "code",
   "execution_count": 2,
   "metadata": {},
   "outputs": [],
   "source": [
    "matplotlib.rcParams['figure.figsize'] = [20, 10]\n",
    "matplotlib.rcParams['font.size'] = 20"
   ]
  },
  {
   "cell_type": "code",
   "execution_count": 3,
   "metadata": {},
   "outputs": [],
   "source": [
    "from sklearn.datasets import load_breast_cancer\n",
    "data = load_breast_cancer()\n",
    "target_classes = list(reversed(data.target_names))\n",
    "\n",
    "y = data.target == 0 # if zero then we detect malignant tumor.\n",
    "X = data.data[:, [0]]\n",
    "\n",
    "X_train, X_test, y_train, y_test = train_test_split(X, y, test_size=0.3, random_state=666)"
   ]
  },
  {
   "cell_type": "code",
   "execution_count": 4,
   "metadata": {},
   "outputs": [
    {
     "data": {
      "image/png": "[encoded data removed]",
      "text/plain": [
       "<Figure size 1440x720 with 1 Axes>"
      ]
     },
     "metadata": {
      "needs_background": "light"
     },
     "output_type": "display_data"
    }
   ],
   "source": [
    "plt.scatter(X_train[~y_train, 0], y_train[~y_train], alpha=0.2, label=target_classes[0])\n",
    "plt.scatter(X_train[y_train, 0], y_train[y_train], alpha=0.2, label=target_classes[1])\n",
    "plt.legend()\n",
    "plt.show()"
   ]
  },
  {
   "cell_type": "code",
   "execution_count": 5,
   "metadata": {},
   "outputs": [
    {
     "name": "stdout",
     "output_type": "stream",
     "text": [
      "Accuracy score : 0.7485380116959064\n",
      "Precision : 0.6\n",
      "Recall : 0.9523809523809523\n",
      "F1-score : 0.736196319018405\n"
     ]
    }
   ],
   "source": [
    "from sklearn.metrics import accuracy_score, precision_score, recall_score, f1_score\n",
    "\n",
    "y_test_hat = X_test[:, 0] > 13\n",
    "\n",
    "print(\"Accuracy score :\", accuracy_score(y_test, y_test_hat))\n",
    "print(\"Precision :\", precision_score(y_test, y_test_hat))\n",
    "print(\"Recall :\", recall_score(y_test, y_test_hat))\n",
    "print(\"F1-score :\", f1_score(y_test, y_test_hat))"
   ]
  },
  {
   "cell_type": "markdown",
   "metadata": {},
   "source": [
    "## Machine Learning"
   ]
  },
  {
   "cell_type": "code",
   "execution_count": 6,
   "metadata": {},
   "outputs": [
    {
     "name": "stdout",
     "output_type": "stream",
     "text": [
      "Accuracy score : 0.9181286549707602\n",
      "Precision : 0.9454545454545454\n",
      "Recall : 0.8253968253968254\n",
      "F1-score : 0.8813559322033897\n"
     ]
    }
   ],
   "source": [
    "from sklearn.tree import DecisionTreeClassifier\n",
    "\n",
    "clf = DecisionTreeClassifier(max_depth=1)\n",
    "clf = clf.fit(X_train, y_train)\n",
    "y_test_hat = clf.predict(X_test)\n",
    "\n",
    "print(\"Accuracy score :\", accuracy_score(y_test, y_test_hat))\n",
    "print(\"Precision :\", precision_score(y_test, y_test_hat))\n",
    "print(\"Recall :\", recall_score(y_test, y_test_hat))\n",
    "print(\"F1-score :\", f1_score(y_test, y_test_hat))"
   ]
  },
  {
   "cell_type": "code",
   "execution_count": 7,
   "metadata": {},
   "outputs": [
    {
     "data": {
      "text/plain": [
       "array(['mean radius', 'mean texture', 'mean perimeter', 'mean area',\n",
       "       'mean smoothness', 'mean compactness', 'mean concavity',\n",
       "       'mean concave points', 'mean symmetry', 'mean fractal dimension',\n",
       "       'radius error', 'texture error', 'perimeter error', 'area error',\n",
       "       'smoothness error', 'compactness error', 'concavity error',\n",
       "       'concave points error', 'symmetry error',\n",
       "       'fractal dimension error', 'worst radius', 'worst texture',\n",
       "       'worst perimeter', 'worst area', 'worst smoothness',\n",
       "       'worst compactness', 'worst concavity', 'worst concave points',\n",
       "       'worst symmetry', 'worst fractal dimension'], dtype='<U23')"
      ]
     },
     "execution_count": 7,
     "metadata": {},
     "output_type": "execute_result"
    }
   ],
   "source": [
    "data.feature_names"
   ]
  },
  {
   "cell_type": "code",
   "execution_count": 12,
   "metadata": {},
   "outputs": [
    {
     "data": {
      "image/svg+xml": [
       "<?xml version=\"1.0\" encoding=\"UTF-8\" standalone=\"no\"?>\n",
       "<!DOCTYPE svg PUBLIC \"-//W3C//DTD SVG 1.1//EN\"\n",
       " \"http://www.w3.org/Graphics/SVG/1.1/DTD/svg11.dtd\">\n",
       "<!-- Generated by graphviz version 2.40.1 (20161225.0304)\n",
       " -->\n",
       "<!-- Title: Tree Pages: 1 -->\n",
       "<svg width=\"270pt\" height=\"186pt\"\n",
       " viewBox=\"0.00 0.00 270.23 186.00\" xmlns=\"http://www.w3.org/2000/svg\" xmlns:xlink=\"http://www.w3.org/1999/xlink\">\n",
       "<g id=\"graph0\" class=\"graph\" transform=\"scale(1 1) rotate(0) translate(4 182)\">\n",
       "<title>Tree</title>\n",
       "<polygon fill=\"#ffffff\" stroke=\"transparent\" points=\"-4,4 -4,-182 266.2339,-182 266.2339,4 -4,4\"/>\n",
       "<!-- 0 -->\n",
       "<g id=\"node1\" class=\"node\">\n",
       "<title>0</title>\n",
       "<path fill=\"#e58139\" fill-opacity=\"0.400000\" stroke=\"#000000\" d=\"M193.7811,-178C193.7811,-178 66.132,-178 66.132,-178 60.132,-178 54.132,-172 54.132,-166 54.132,-166 54.132,-112 54.132,-112 54.132,-106 60.132,-100 66.132,-100 66.132,-100 193.7811,-100 193.7811,-100 199.7811,-100 205.7811,-106 205.7811,-112 205.7811,-112 205.7811,-166 205.7811,-166 205.7811,-172 199.7811,-178 193.7811,-178\"/>\n",
       "<text text-anchor=\"start\" x=\"62.2944\" y=\"-162.8\" font-family=\"Helvetica,sans-Serif\" font-size=\"14.00\" fill=\"#000000\">mean radius ≤ 15.045</text>\n",
       "<text text-anchor=\"start\" x=\"93.5654\" y=\"-148.8\" font-family=\"Helvetica,sans-Serif\" font-size=\"14.00\" fill=\"#000000\">gini = 0.468</text>\n",
       "<text text-anchor=\"start\" x=\"84.2344\" y=\"-134.8\" font-family=\"Helvetica,sans-Serif\" font-size=\"14.00\" fill=\"#000000\">samples = 398</text>\n",
       "<text text-anchor=\"start\" x=\"74.1069\" y=\"-120.8\" font-family=\"Helvetica,sans-Serif\" font-size=\"14.00\" fill=\"#000000\">value = [249, 149]</text>\n",
       "<text text-anchor=\"start\" x=\"85.0103\" y=\"-106.8\" font-family=\"Helvetica,sans-Serif\" font-size=\"14.00\" fill=\"#000000\">class = benign</text>\n",
       "</g>\n",
       "<!-- 1 -->\n",
       "<g id=\"node2\" class=\"node\">\n",
       "<title>1</title>\n",
       "<path fill=\"#e58139\" fill-opacity=\"0.835294\" stroke=\"#000000\" d=\"M107.8697,-64C107.8697,-64 12.0434,-64 12.0434,-64 6.0434,-64 .0434,-58 .0434,-52 .0434,-52 .0434,-12 .0434,-12 .0434,-6 6.0434,0 12.0434,0 12.0434,0 107.8697,0 107.8697,0 113.8697,0 119.8697,-6 119.8697,-12 119.8697,-12 119.8697,-52 119.8697,-52 119.8697,-58 113.8697,-64 107.8697,-64\"/>\n",
       "<text text-anchor=\"start\" x=\"23.5654\" y=\"-48.8\" font-family=\"Helvetica,sans-Serif\" font-size=\"14.00\" fill=\"#000000\">gini = 0.244</text>\n",
       "<text text-anchor=\"start\" x=\"14.2344\" y=\"-34.8\" font-family=\"Helvetica,sans-Serif\" font-size=\"14.00\" fill=\"#000000\">samples = 281</text>\n",
       "<text text-anchor=\"start\" x=\"8\" y=\"-20.8\" font-family=\"Helvetica,sans-Serif\" font-size=\"14.00\" fill=\"#000000\">value = [241, 40]</text>\n",
       "<text text-anchor=\"start\" x=\"15.0103\" y=\"-6.8\" font-family=\"Helvetica,sans-Serif\" font-size=\"14.00\" fill=\"#000000\">class = benign</text>\n",
       "</g>\n",
       "<!-- 0&#45;&gt;1 -->\n",
       "<g id=\"edge1\" class=\"edge\">\n",
       "<title>0&#45;&gt;1</title>\n",
       "<path fill=\"none\" stroke=\"#000000\" d=\"M104.2886,-99.7647C98.5527,-90.9971 92.4562,-81.678 86.6788,-72.8469\"/>\n",
       "<polygon fill=\"#000000\" stroke=\"#000000\" points=\"89.4366,-70.6691 81.033,-64.2169 83.5787,-74.5013 89.4366,-70.6691\"/>\n",
       "<text text-anchor=\"middle\" x=\"75.9176\" y=\"-84.4879\" font-family=\"Helvetica,sans-Serif\" font-size=\"14.00\" fill=\"#000000\">True</text>\n",
       "</g>\n",
       "<!-- 2 -->\n",
       "<g id=\"node3\" class=\"node\">\n",
       "<title>2</title>\n",
       "<path fill=\"#399de5\" fill-opacity=\"0.925490\" stroke=\"#000000\" d=\"M250.012,-64C250.012,-64 149.9011,-64 149.9011,-64 143.9011,-64 137.9011,-58 137.9011,-52 137.9011,-52 137.9011,-12 137.9011,-12 137.9011,-6 143.9011,0 149.9011,0 149.9011,0 250.012,0 250.012,0 256.012,0 262.012,-6 262.012,-12 262.012,-12 262.012,-52 262.012,-52 262.012,-58 256.012,-64 250.012,-64\"/>\n",
       "<text text-anchor=\"start\" x=\"163.5654\" y=\"-48.8\" font-family=\"Helvetica,sans-Serif\" font-size=\"14.00\" fill=\"#000000\">gini = 0.127</text>\n",
       "<text text-anchor=\"start\" x=\"154.7505\" y=\"-34.8\" font-family=\"Helvetica,sans-Serif\" font-size=\"14.00\" fill=\"#000000\">samples = 117</text>\n",
       "<text text-anchor=\"start\" x=\"151.8931\" y=\"-20.8\" font-family=\"Helvetica,sans-Serif\" font-size=\"14.00\" fill=\"#000000\">value = [8, 109]</text>\n",
       "<text text-anchor=\"start\" x=\"145.6792\" y=\"-6.8\" font-family=\"Helvetica,sans-Serif\" font-size=\"14.00\" fill=\"#000000\">class = malignant</text>\n",
       "</g>\n",
       "<!-- 0&#45;&gt;2 -->\n",
       "<g id=\"edge2\" class=\"edge\">\n",
       "<title>0&#45;&gt;2</title>\n",
       "<path fill=\"none\" stroke=\"#000000\" d=\"M155.6245,-99.7647C161.3603,-90.9971 167.4569,-81.678 173.2343,-72.8469\"/>\n",
       "<polygon fill=\"#000000\" stroke=\"#000000\" points=\"176.3344,-74.5013 178.8801,-64.2169 170.4765,-70.6691 176.3344,-74.5013\"/>\n",
       "<text text-anchor=\"middle\" x=\"183.9955\" y=\"-84.4879\" font-family=\"Helvetica,sans-Serif\" font-size=\"14.00\" fill=\"#000000\">False</text>\n",
       "</g>\n",
       "</g>\n",
       "</svg>\n"
      ],
      "text/plain": [
       "<graphviz.files.Source at 0x312fcca6a0>"
      ]
     },
     "execution_count": 12,
     "metadata": {},
     "output_type": "execute_result"
    }
   ],
   "source": [
    "from sklearn.tree import  export_graphviz\n",
    "import graphviz \n",
    "dot_data = export_graphviz(\n",
    "    clf, out_file=None, \n",
    "    class_names=target_classes,\n",
    "    feature_names=data.feature_names[:1],\n",
    "    filled=True, rounded=True,  \n",
    "    special_characters=True)  \n",
    "graph = graphviz.Source(dot_data)  \n",
    "graph "
   ]
  },
  {
   "cell_type": "markdown",
   "metadata": {},
   "source": [
    "### Usando todas las variables"
   ]
  },
  {
   "cell_type": "code",
   "execution_count": 13,
   "metadata": {},
   "outputs": [
    {
     "name": "stdout",
     "output_type": "stream",
     "text": [
      "Accuracy score : 0.935672514619883\n",
      "Precision : 0.8823529411764706\n",
      "Recall : 0.9523809523809523\n",
      "F1-score : 0.916030534351145\n"
     ]
    }
   ],
   "source": [
    "X = data.data\n",
    "X_train, X_test, y_train, y_test = train_test_split(X, y, test_size=0.3, random_state=666)\n",
    "\n",
    "clf = DecisionTreeClassifier(max_depth=2)\n",
    "clf = clf.fit(X_train, y_train)\n",
    "y_test_hat = clf.predict(X_test)\n",
    "print(\"Accuracy score :\", accuracy_score(y_test, y_test_hat))\n",
    "print(\"Precision :\", precision_score(y_test, y_test_hat))\n",
    "print(\"Recall :\", recall_score(y_test, y_test_hat))\n",
    "print(\"F1-score :\", f1_score(y_test, y_test_hat))"
   ]
  },
  {
   "cell_type": "code",
   "execution_count": 14,
   "metadata": {},
   "outputs": [
    {
     "data": {
      "image/svg+xml": [
       "<?xml version=\"1.0\" encoding=\"UTF-8\" standalone=\"no\"?>\n",
       "<!DOCTYPE svg PUBLIC \"-//W3C//DTD SVG 1.1//EN\"\n",
       " \"http://www.w3.org/Graphics/SVG/1.1/DTD/svg11.dtd\">\n",
       "<!-- Generated by graphviz version 2.40.1 (20161225.0304)\n",
       " -->\n",
       "<!-- Title: Tree Pages: 1 -->\n",
       "<svg width=\"540pt\" height=\"300pt\"\n",
       " viewBox=\"0.00 0.00 540.34 300.00\" xmlns=\"http://www.w3.org/2000/svg\" xmlns:xlink=\"http://www.w3.org/1999/xlink\">\n",
       "<g id=\"graph0\" class=\"graph\" transform=\"scale(1 1) rotate(0) translate(4 296)\">\n",
       "<title>Tree</title>\n",
       "<polygon fill=\"#ffffff\" stroke=\"transparent\" points=\"-4,4 -4,-296 536.3408,-296 536.3408,4 -4,4\"/>\n",
       "<!-- 0 -->\n",
       "<g id=\"node1\" class=\"node\">\n",
       "<title>0</title>\n",
       "<path fill=\"#e58139\" fill-opacity=\"0.400000\" stroke=\"#000000\" d=\"M351.3634,-292C351.3634,-292 176.7636,-292 176.7636,-292 170.7636,-292 164.7636,-286 164.7636,-280 164.7636,-280 164.7636,-226 164.7636,-226 164.7636,-220 170.7636,-214 176.7636,-214 176.7636,-214 351.3634,-214 351.3634,-214 357.3634,-214 363.3634,-220 363.3634,-226 363.3634,-226 363.3634,-280 363.3634,-280 363.3634,-286 357.3634,-292 351.3634,-292\"/>\n",
       "<text text-anchor=\"start\" x=\"172.6636\" y=\"-276.8\" font-family=\"Helvetica,sans-Serif\" font-size=\"14.00\" fill=\"#000000\">mean concave points ≤ 0.049</text>\n",
       "<text text-anchor=\"start\" x=\"227.6724\" y=\"-262.8\" font-family=\"Helvetica,sans-Serif\" font-size=\"14.00\" fill=\"#000000\">gini = 0.468</text>\n",
       "<text text-anchor=\"start\" x=\"218.3413\" y=\"-248.8\" font-family=\"Helvetica,sans-Serif\" font-size=\"14.00\" fill=\"#000000\">samples = 398</text>\n",
       "<text text-anchor=\"start\" x=\"208.2139\" y=\"-234.8\" font-family=\"Helvetica,sans-Serif\" font-size=\"14.00\" fill=\"#000000\">value = [249, 149]</text>\n",
       "<text text-anchor=\"start\" x=\"219.1172\" y=\"-220.8\" font-family=\"Helvetica,sans-Serif\" font-size=\"14.00\" fill=\"#000000\">class = benign</text>\n",
       "</g>\n",
       "<!-- 1 -->\n",
       "<g id=\"node2\" class=\"node\">\n",
       "<title>1</title>\n",
       "<path fill=\"#e58139\" fill-opacity=\"0.949020\" stroke=\"#000000\" d=\"M242.7055,-178C242.7055,-178 127.4214,-178 127.4214,-178 121.4214,-178 115.4214,-172 115.4214,-166 115.4214,-166 115.4214,-112 115.4214,-112 115.4214,-106 121.4214,-100 127.4214,-100 127.4214,-100 242.7055,-100 242.7055,-100 248.7055,-100 254.7055,-106 254.7055,-112 254.7055,-112 254.7055,-166 254.7055,-166 254.7055,-172 248.7055,-178 242.7055,-178\"/>\n",
       "<text text-anchor=\"start\" x=\"123.2427\" y=\"-162.8\" font-family=\"Helvetica,sans-Serif\" font-size=\"14.00\" fill=\"#000000\">worst area ≤ 957.45</text>\n",
       "<text text-anchor=\"start\" x=\"148.6724\" y=\"-148.8\" font-family=\"Helvetica,sans-Serif\" font-size=\"14.00\" fill=\"#000000\">gini = 0.094</text>\n",
       "<text text-anchor=\"start\" x=\"139.3413\" y=\"-134.8\" font-family=\"Helvetica,sans-Serif\" font-size=\"14.00\" fill=\"#000000\">samples = 244</text>\n",
       "<text text-anchor=\"start\" x=\"133.1069\" y=\"-120.8\" font-family=\"Helvetica,sans-Serif\" font-size=\"14.00\" fill=\"#000000\">value = [232, 12]</text>\n",
       "<text text-anchor=\"start\" x=\"140.1172\" y=\"-106.8\" font-family=\"Helvetica,sans-Serif\" font-size=\"14.00\" fill=\"#000000\">class = benign</text>\n",
       "</g>\n",
       "<!-- 0&#45;&gt;1 -->\n",
       "<g id=\"edge1\" class=\"edge\">\n",
       "<title>0&#45;&gt;1</title>\n",
       "<path fill=\"none\" stroke=\"#000000\" d=\"M236.8762,-213.7677C230.8556,-205.0798 224.4111,-195.7801 218.1839,-186.794\"/>\n",
       "<polygon fill=\"#000000\" stroke=\"#000000\" points=\"220.8736,-184.5304 212.3009,-178.3046 215.12,-188.5176 220.8736,-184.5304\"/>\n",
       "<text text-anchor=\"middle\" x=\"207.84\" y=\"-198.7034\" font-family=\"Helvetica,sans-Serif\" font-size=\"14.00\" fill=\"#000000\">True</text>\n",
       "</g>\n",
       "<!-- 4 -->\n",
       "<g id=\"node5\" class=\"node\">\n",
       "<title>4</title>\n",
       "<path fill=\"#399de5\" fill-opacity=\"0.874510\" stroke=\"#000000\" d=\"M400.7055,-178C400.7055,-178 285.4214,-178 285.4214,-178 279.4214,-178 273.4214,-172 273.4214,-166 273.4214,-166 273.4214,-112 273.4214,-112 273.4214,-106 279.4214,-100 285.4214,-100 285.4214,-100 400.7055,-100 400.7055,-100 406.7055,-100 412.7055,-106 412.7055,-112 412.7055,-112 412.7055,-166 412.7055,-166 412.7055,-172 406.7055,-178 400.7055,-178\"/>\n",
       "<text text-anchor=\"start\" x=\"281.2427\" y=\"-162.8\" font-family=\"Helvetica,sans-Serif\" font-size=\"14.00\" fill=\"#000000\">worst area ≤ 686.45</text>\n",
       "<text text-anchor=\"start\" x=\"306.6724\" y=\"-148.8\" font-family=\"Helvetica,sans-Serif\" font-size=\"14.00\" fill=\"#000000\">gini = 0.196</text>\n",
       "<text text-anchor=\"start\" x=\"297.3413\" y=\"-134.8\" font-family=\"Helvetica,sans-Serif\" font-size=\"14.00\" fill=\"#000000\">samples = 154</text>\n",
       "<text text-anchor=\"start\" x=\"291.1069\" y=\"-120.8\" font-family=\"Helvetica,sans-Serif\" font-size=\"14.00\" fill=\"#000000\">value = [17, 137]</text>\n",
       "<text text-anchor=\"start\" x=\"288.7861\" y=\"-106.8\" font-family=\"Helvetica,sans-Serif\" font-size=\"14.00\" fill=\"#000000\">class = malignant</text>\n",
       "</g>\n",
       "<!-- 0&#45;&gt;4 -->\n",
       "<g id=\"edge4\" class=\"edge\">\n",
       "<title>0&#45;&gt;4</title>\n",
       "<path fill=\"none\" stroke=\"#000000\" d=\"M291.2508,-213.7677C297.2713,-205.0798 303.7159,-195.7801 309.9431,-186.794\"/>\n",
       "<polygon fill=\"#000000\" stroke=\"#000000\" points=\"313.0069,-188.5176 315.826,-178.3046 307.2534,-184.5304 313.0069,-188.5176\"/>\n",
       "<text text-anchor=\"middle\" x=\"320.287\" y=\"-198.7034\" font-family=\"Helvetica,sans-Serif\" font-size=\"14.00\" fill=\"#000000\">False</text>\n",
       "</g>\n",
       "<!-- 2 -->\n",
       "<g id=\"node3\" class=\"node\">\n",
       "<title>2</title>\n",
       "<path fill=\"#e58139\" fill-opacity=\"0.972549\" stroke=\"#000000\" d=\"M100.1905,-64C100.1905,-64 11.9365,-64 11.9365,-64 5.9365,-64 -.0635,-58 -.0635,-52 -.0635,-52 -.0635,-12 -.0635,-12 -.0635,-6 5.9365,0 11.9365,0 11.9365,0 100.1905,0 100.1905,0 106.1905,0 112.1905,-6 112.1905,-12 112.1905,-12 112.1905,-52 112.1905,-52 112.1905,-58 106.1905,-64 100.1905,-64\"/>\n",
       "<text text-anchor=\"start\" x=\"23.5654\" y=\"-48.8\" font-family=\"Helvetica,sans-Serif\" font-size=\"14.00\" fill=\"#000000\">gini = 0.05</text>\n",
       "<text text-anchor=\"start\" x=\"10.3413\" y=\"-34.8\" font-family=\"Helvetica,sans-Serif\" font-size=\"14.00\" fill=\"#000000\">samples = 236</text>\n",
       "<text text-anchor=\"start\" x=\"8\" y=\"-20.8\" font-family=\"Helvetica,sans-Serif\" font-size=\"14.00\" fill=\"#000000\">value = [230, 6]</text>\n",
       "<text text-anchor=\"start\" x=\"11.1172\" y=\"-6.8\" font-family=\"Helvetica,sans-Serif\" font-size=\"14.00\" fill=\"#000000\">class = benign</text>\n",
       "</g>\n",
       "<!-- 1&#45;&gt;2 -->\n",
       "<g id=\"edge2\" class=\"edge\">\n",
       "<title>1&#45;&gt;2</title>\n",
       "<path fill=\"none\" stroke=\"#000000\" d=\"M137.7611,-99.7647C126.3099,-90.2664 114.0785,-80.121 102.66,-70.6498\"/>\n",
       "<polygon fill=\"#000000\" stroke=\"#000000\" points=\"104.8358,-67.9072 94.9044,-64.2169 100.3668,-73.295 104.8358,-67.9072\"/>\n",
       "</g>\n",
       "<!-- 3 -->\n",
       "<g id=\"node4\" class=\"node\">\n",
       "<title>3</title>\n",
       "<path fill=\"#399de5\" fill-opacity=\"0.666667\" stroke=\"#000000\" d=\"M242.119,-64C242.119,-64 142.008,-64 142.008,-64 136.008,-64 130.008,-58 130.008,-52 130.008,-52 130.008,-12 130.008,-12 130.008,-6 136.008,0 142.008,0 142.008,0 242.119,0 242.119,0 248.119,0 254.119,-6 254.119,-12 254.119,-12 254.119,-52 254.119,-52 254.119,-58 248.119,-64 242.119,-64\"/>\n",
       "<text text-anchor=\"start\" x=\"155.6724\" y=\"-48.8\" font-family=\"Helvetica,sans-Serif\" font-size=\"14.00\" fill=\"#000000\">gini = 0.375</text>\n",
       "<text text-anchor=\"start\" x=\"154.1274\" y=\"-34.8\" font-family=\"Helvetica,sans-Serif\" font-size=\"14.00\" fill=\"#000000\">samples = 8</text>\n",
       "<text text-anchor=\"start\" x=\"151.7861\" y=\"-20.8\" font-family=\"Helvetica,sans-Serif\" font-size=\"14.00\" fill=\"#000000\">value = [2, 6]</text>\n",
       "<text text-anchor=\"start\" x=\"137.7861\" y=\"-6.8\" font-family=\"Helvetica,sans-Serif\" font-size=\"14.00\" fill=\"#000000\">class = malignant</text>\n",
       "</g>\n",
       "<!-- 1&#45;&gt;3 -->\n",
       "<g id=\"edge3\" class=\"edge\">\n",
       "<title>1&#45;&gt;3</title>\n",
       "<path fill=\"none\" stroke=\"#000000\" d=\"M187.6303,-99.7647C188.174,-91.4537 188.7501,-82.6472 189.3007,-74.2305\"/>\n",
       "<polygon fill=\"#000000\" stroke=\"#000000\" points=\"192.7955,-74.4241 189.9558,-64.2169 185.8104,-73.967 192.7955,-74.4241\"/>\n",
       "</g>\n",
       "<!-- 5 -->\n",
       "<g id=\"node6\" class=\"node\">\n",
       "<title>5</title>\n",
       "<path fill=\"#e58139\" fill-opacity=\"0.725490\" stroke=\"#000000\" d=\"M377.9561,-64C377.9561,-64 296.1708,-64 296.1708,-64 290.1708,-64 284.1708,-58 284.1708,-52 284.1708,-52 284.1708,-12 284.1708,-12 284.1708,-6 290.1708,0 296.1708,0 296.1708,0 377.9561,0 377.9561,0 383.9561,0 389.9561,-6 389.9561,-12 389.9561,-12 389.9561,-52 389.9561,-52 389.9561,-58 383.9561,-64 377.9561,-64\"/>\n",
       "<text text-anchor=\"start\" x=\"300.6724\" y=\"-48.8\" font-family=\"Helvetica,sans-Serif\" font-size=\"14.00\" fill=\"#000000\">gini = 0.337</text>\n",
       "<text text-anchor=\"start\" x=\"295.2344\" y=\"-34.8\" font-family=\"Helvetica,sans-Serif\" font-size=\"14.00\" fill=\"#000000\">samples = 14</text>\n",
       "<text text-anchor=\"start\" x=\"293.4092\" y=\"-20.8\" font-family=\"Helvetica,sans-Serif\" font-size=\"14.00\" fill=\"#000000\">value = [11, 3]</text>\n",
       "<text text-anchor=\"start\" x=\"292.1172\" y=\"-6.8\" font-family=\"Helvetica,sans-Serif\" font-size=\"14.00\" fill=\"#000000\">class = benign</text>\n",
       "</g>\n",
       "<!-- 4&#45;&gt;5 -->\n",
       "<g id=\"edge5\" class=\"edge\">\n",
       "<title>4&#45;&gt;5</title>\n",
       "<path fill=\"none\" stroke=\"#000000\" d=\"M340.8634,-99.7647C340.3973,-91.4537 339.9035,-82.6472 339.4315,-74.2305\"/>\n",
       "<polygon fill=\"#000000\" stroke=\"#000000\" points=\"342.9245,-74.0052 338.87,-64.2169 335.9355,-74.3972 342.9245,-74.0052\"/>\n",
       "</g>\n",
       "<!-- 6 -->\n",
       "<g id=\"node7\" class=\"node\">\n",
       "<title>6</title>\n",
       "<path fill=\"#399de5\" fill-opacity=\"0.956863\" stroke=\"#000000\" d=\"M520.119,-64C520.119,-64 420.008,-64 420.008,-64 414.008,-64 408.008,-58 408.008,-52 408.008,-52 408.008,-12 408.008,-12 408.008,-6 414.008,0 420.008,0 420.008,0 520.119,0 520.119,0 526.119,0 532.119,-6 532.119,-12 532.119,-12 532.119,-52 532.119,-52 532.119,-58 526.119,-64 520.119,-64\"/>\n",
       "<text text-anchor=\"start\" x=\"433.6724\" y=\"-48.8\" font-family=\"Helvetica,sans-Serif\" font-size=\"14.00\" fill=\"#000000\">gini = 0.082</text>\n",
       "<text text-anchor=\"start\" x=\"424.3413\" y=\"-34.8\" font-family=\"Helvetica,sans-Serif\" font-size=\"14.00\" fill=\"#000000\">samples = 140</text>\n",
       "<text text-anchor=\"start\" x=\"422\" y=\"-20.8\" font-family=\"Helvetica,sans-Serif\" font-size=\"14.00\" fill=\"#000000\">value = [6, 134]</text>\n",
       "<text text-anchor=\"start\" x=\"415.7861\" y=\"-6.8\" font-family=\"Helvetica,sans-Serif\" font-size=\"14.00\" fill=\"#000000\">class = malignant</text>\n",
       "</g>\n",
       "<!-- 4&#45;&gt;6 -->\n",
       "<g id=\"edge6\" class=\"edge\">\n",
       "<title>4&#45;&gt;6</title>\n",
       "<path fill=\"none\" stroke=\"#000000\" d=\"M389.6324,-99.7647C400.7977,-90.3577 412.7164,-80.316 423.8649,-70.9232\"/>\n",
       "<polygon fill=\"#000000\" stroke=\"#000000\" points=\"426.4323,-73.3368 431.8248,-64.2169 421.922,-67.9835 426.4323,-73.3368\"/>\n",
       "</g>\n",
       "</g>\n",
       "</svg>\n"
      ],
      "text/plain": [
       "<graphviz.files.Source at 0x312fccabe0>"
      ]
     },
     "execution_count": 14,
     "metadata": {},
     "output_type": "execute_result"
    }
   ],
   "source": [
    "dot_data = export_graphviz(\n",
    "    clf, out_file=None, \n",
    "    feature_names=data.feature_names,\n",
    "    class_names=target_classes,  \n",
    "    filled=True, rounded=True,  \n",
    "    special_characters=True)  \n",
    "graph = graphviz.Source(dot_data)  \n",
    "graph "
   ]
  },
  {
   "cell_type": "code",
   "execution_count": 15,
   "metadata": {},
   "outputs": [],
   "source": [
    "X = data.data\n",
    "\n",
    "X_train_dev, X_test, y_train_dev, y_test = train_test_split(X, y, random_state=666, test_size=0.2)\n",
    "X_train, X_dev, y_train, y_dev = train_test_split(X_train_dev, y_train_dev, random_state=667, test_size=0.25)"
   ]
  },
  {
   "cell_type": "code",
   "execution_count": 16,
   "metadata": {},
   "outputs": [
    {
     "data": {
      "text/plain": [
       "[(1, 0.9385964912280702, 0.9066666666666667),\n",
       " (2, 0.9385964912280702, 0.9113924050632912),\n",
       " (3, 0.9473684210526315, 0.9210526315789473),\n",
       " (4, 0.9385964912280702, 0.9066666666666667),\n",
       " (5, 0.9210526315789473, 0.88),\n",
       " (6, 0.9473684210526315, 0.9210526315789473),\n",
       " (7, 0.9385964912280702, 0.9066666666666667),\n",
       " (8, 0.9210526315789473, 0.8831168831168831),\n",
       " (9, 0.9298245614035088, 0.8918918918918918),\n",
       " (10, 0.8859649122807017, 0.8311688311688312),\n",
       " (11, 0.8859649122807017, 0.8395061728395061),\n",
       " (12, 0.9122807017543859, 0.8717948717948718),\n",
       " (13, 0.9298245614035088, 0.8947368421052632),\n",
       " (14, 0.9298245614035088, 0.8947368421052632),\n",
       " (15, 0.9210526315789473, 0.88),\n",
       " (16, 0.9122807017543859, 0.8717948717948718),\n",
       " (17, 0.9210526315789473, 0.88),\n",
       " (18, 0.9122807017543859, 0.8717948717948718),\n",
       " (19, 0.9122807017543859, 0.875),\n",
       " (20, 0.9122807017543859, 0.8648648648648649)]"
      ]
     },
     "execution_count": 16,
     "metadata": {},
     "output_type": "execute_result"
    }
   ],
   "source": [
    "scores = []\n",
    "for depth in range(1, 21):\n",
    "    clf = DecisionTreeClassifier(max_depth=depth)\n",
    "    clf = clf.fit(X_train, y_train)\n",
    "    y_dev_hat = clf.predict(X_dev)\n",
    "    accuaracy = accuracy_score(y_dev, y_dev_hat)\n",
    "    f1 = f1_score(y_dev, y_dev_hat)\n",
    "    scores.append((depth, accuaracy, f1))\n",
    "scores"
   ]
  }
 ],
 "metadata": {
  "kernelspec": {
   "display_name": "Python 3",
   "language": "python",
   "name": "python3"
  },
  "language_info": {
   "codemirror_mode": {
    "name": "ipython",
    "version": 3
   },
   "file_extension": ".py",
   "mimetype": "text/x-python",
   "name": "python",
   "nbconvert_exporter": "python",
   "pygments_lexer": "ipython3",
   "version": "3.6.8"
  }
 },
 "nbformat": 4,
 "nbformat_minor": 2
}
